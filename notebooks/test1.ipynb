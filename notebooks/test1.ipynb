{
 "cells": [
  {
   "cell_type": "code",
   "execution_count": 5,
   "id": "16fcd878",
   "metadata": {},
   "outputs": [],
   "source": [
    "import kagglehub\n",
    "import os\n",
    "import pandas as pd\n",
    "import json\n",
    "import sys\n",
    "from tqdm import tqdm"
   ]
  },
  {
   "cell_type": "markdown",
   "id": "9d825413",
   "metadata": {},
   "source": [
    "## Downloading dataset"
   ]
  },
  {
   "cell_type": "code",
   "execution_count": 6,
   "id": "a46e832d",
   "metadata": {},
   "outputs": [],
   "source": [
    "path = kagglehub.dataset_download(\"himanshuwagh/spotify-million\")\n",
    "datapath = os.path.join(path, \"data\")"
   ]
  },
  {
   "cell_type": "markdown",
   "id": "fd8a3229",
   "metadata": {},
   "source": [
    "## Fetching the dataset"
   ]
  },
  {
   "cell_type": "code",
   "execution_count": 7,
   "id": "43698f20",
   "metadata": {},
   "outputs": [
    {
     "name": "stdout",
     "output_type": "stream",
     "text": [
      "Json file styles:\n",
      "['mpd.slice.0-999.json', 'mpd.slice.1000-1999.json', 'mpd.slice.10000-10999.json', 'mpd.slice.100000-100999.json']\n"
     ]
    }
   ],
   "source": [
    "slicepaths= os.listdir(datapath)\n",
    "print(\"Json file styles:\")\n",
    "print(slicepaths[:4])"
   ]
  },
  {
   "cell_type": "markdown",
   "id": "9aa5c7c4",
   "metadata": {},
   "source": [
    "## Join Slices into Track Dataframe"
   ]
  },
  {
   "cell_type": "code",
   "execution_count": 4,
   "id": "3c402ff2",
   "metadata": {},
   "outputs": [
    {
     "data": {
      "text/plain": [
       "1000"
      ]
     },
     "execution_count": 4,
     "metadata": {},
     "output_type": "execute_result"
    }
   ],
   "source": [
    "len(slicepaths) # Number of slices"
   ]
  },
  {
   "cell_type": "code",
   "execution_count": null,
   "id": "8b5a00af",
   "metadata": {},
   "outputs": [
    {
     "name": "stderr",
     "output_type": "stream",
     "text": [
      "100%|██████████| 10/10 [00:01<00:00,  5.91it/s]\n"
     ]
    }
   ],
   "source": [
    "slicelist = []\n",
    "for slicepath in tqdm(slicepaths[:10]): # First 10, too many slices to process all\n",
    "    with open(os.path.join(datapath,slicepath), \"rb\") as f:\n",
    "        slicelist.append(json.load(f))\n"
   ]
  },
  {
   "cell_type": "code",
   "execution_count": null,
   "id": "33eabb53",
   "metadata": {},
   "outputs": [
    {
     "name": "stderr",
     "output_type": "stream",
     "text": [
      "  6%|▌         | 56/1000 [00:10<03:02,  5.17it/s]"
     ]
    }
   ],
   "source": [
    "rows = []\n",
    "for slicepath in tqdm(slicepaths):\n",
    "    with open(os.path.join(datapath,slicepath), \"rb\") as f:\n",
    "        f1 = json.load(f)\n",
    "    for playlist in f1[\"playlists\"]:\n",
    "        for track in playlist[\"tracks\"]:\n",
    "            row = {\n",
    "                \"playlist_name\": playlist['name'],\n",
    "                \"pid\": playlist[\"pid\"],\n",
    "                \"num_tracks\": playlist[\"num_tracks\"],\n",
    "                \"num_followers\": playlist[\"num_followers\"],\n",
    "                **track\n",
    "            }\n",
    "            rows.append(row)\n",
    "    f.close()\n",
    "\n",
    "df = pd.DataFrame(rows)"
   ]
  },
  {
   "cell_type": "code",
   "execution_count": null,
   "id": "1f13ca78",
   "metadata": {},
   "outputs": [
    {
     "data": {
      "text/plain": [
       "Index(['playlist_name', 'pid', 'num_tracks', 'num_followers', 'pos',\n",
       "       'artist_name', 'track_uri', 'artist_uri', 'track_name', 'album_uri',\n",
       "       'duration_ms', 'album_name'],\n",
       "      dtype='object')"
      ]
     },
     "execution_count": 23,
     "metadata": {},
     "output_type": "execute_result"
    }
   ],
   "source": [
    "df.columns"
   ]
  },
  {
   "cell_type": "code",
   "execution_count": 24,
   "id": "92c3ebae",
   "metadata": {},
   "outputs": [
    {
     "name": "stdout",
     "output_type": "stream",
     "text": [
      "<class 'pandas.core.frame.DataFrame'>\n",
      "RangeIndex: 670568 entries, 0 to 670567\n",
      "Data columns (total 12 columns):\n",
      " #   Column         Non-Null Count   Dtype \n",
      "---  ------         --------------   ----- \n",
      " 0   playlist_name  670568 non-null  object\n",
      " 1   pid            670568 non-null  int64 \n",
      " 2   num_tracks     670568 non-null  int64 \n",
      " 3   num_followers  670568 non-null  int64 \n",
      " 4   pos            670568 non-null  int64 \n",
      " 5   artist_name    670568 non-null  object\n",
      " 6   track_uri      670568 non-null  object\n",
      " 7   artist_uri     670568 non-null  object\n",
      " 8   track_name     670568 non-null  object\n",
      " 9   album_uri      670568 non-null  object\n",
      " 10  duration_ms    670568 non-null  int64 \n",
      " 11  album_name     670568 non-null  object\n",
      "dtypes: int64(5), object(7)\n",
      "memory usage: 61.4+ MB\n"
     ]
    }
   ],
   "source": [
    "df.info()"
   ]
  }
 ],
 "metadata": {
  "kernelspec": {
   "display_name": "Python 3",
   "language": "python",
   "name": "python3"
  },
  "language_info": {
   "codemirror_mode": {
    "name": "ipython",
    "version": 3
   },
   "file_extension": ".py",
   "mimetype": "text/x-python",
   "name": "python",
   "nbconvert_exporter": "python",
   "pygments_lexer": "ipython3",
   "version": "3.11.9"
  }
 },
 "nbformat": 4,
 "nbformat_minor": 5
}
